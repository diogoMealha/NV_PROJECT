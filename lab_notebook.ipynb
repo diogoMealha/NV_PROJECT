{
 "cells": [
  {
   "cell_type": "markdown",
   "id": "711dc4c6",
   "metadata": {},
   "source": [
    "### Wednesday 4th June"
   ]
  },
  {
   "cell_type": "markdown",
   "id": "27fac327",
   "metadata": {},
   "source": [
    "No code"
   ]
  }
 ],
 "metadata": {
  "language_info": {
   "name": "python"
  }
 },
 "nbformat": 4,
 "nbformat_minor": 5
}
