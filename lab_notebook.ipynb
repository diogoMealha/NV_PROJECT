{
  "cells": [
    {
      "cell_type": "markdown",
      "id": "24532fbf",
      "metadata": {},
      "source": [
        "# Lab Notebook Overview\n",
        "\n",
        "This notebook is used to record our daily coding work for our lab report.\n",
        "\n",
        "### Markdown Examples\n",
        "- **Link**: `[Link Text](https://example.com)`\n",
        "- **Image**: `![Alt Text](https://example.com/image.png)`\n",
        "- **Dot Points**:\n",
        "  - Point one\n",
        "  - Point two\n"
      ]
    },
    {
      "cell_type": "markdown",
      "id": "4569aa55",
      "metadata": {},
      "source": [
        "## Wednesday 05 June 2025  -----------------------------------\n",
        "\n",
        "### Goals for today\n",
        "- Form groups\n",
        "- Discuss and choose project\n",
        "\n",
        "### Work Log\n",
        "- Acheived goals for the day\n",
        "- We are group 7 with Christian, Lucas, Laura, Diogo and Pablo\n"
      ]
    },
    {
      "cell_type": "markdown",
      "id": "be8f7993",
      "metadata": {},
      "source": [
        "## Thursday 06 June 2025  -----------------------------------\n",
        "\n",
        "### Public Holiday\n"
      ]
    },
    {
      "cell_type": "markdown",
      "id": "b2880d02",
      "metadata": {},
      "source": [
        "## Friday 07 June 2025  -----------------------------------\n",
        "\n",
        "### Goals for today\n",
        "- Discuss lab equipment which will be needed\n",
        "- Work out experimental setup\n",
        "- \n",
        "\n",
        "### Work Log\n",
        "- Acheived goals for the day"
      ]
    },
    {
      "cell_type": "markdown",
      "id": "ff1c3e8d",
      "metadata": {},
      "source": [
        "## Monday 09 June 2025  -----------------------------------\n",
        "\n",
        "### Goals for today\n",
        "- \n",
        "\n",
        "### Work Log\n",
        "- \n",
        "\n",
        "### Code Snippets\n",
        "```python\n",
        "# Your code here\n",
        "```\n",
        "\n",
        "### Observations & Next Steps\n",
        "- \n"
      ]
    },
    {
      "cell_type": "markdown",
      "id": "38a4423c",
      "metadata": {},
      "source": [
        "## Tuesday 10 June 2025  -----------------------------------\n",
        "\n",
        "### Goals for today\n",
        "- \n",
        "\n",
        "### Work Log\n",
        "- Found code to kill python processes in Windows powershellgiu which might be useful\n",
        "\n",
        "### Code Snippets\n",
        "```bash\n",
        "# Your code here\n",
        "Get-Process python | Stop-Process -Force\n",
        "```\n",
        "\n",
        "### Observations & Next Steps\n",
        "- \n"
      ]
    },
    {
      "cell_type": "markdown",
      "id": "c8ecc715",
      "metadata": {},
      "source": [
        "## Wednesday 11 June 2025  -----------------------------------\n",
        "\n",
        "### Goals for today\n",
        "- \n",
        "\n",
        "### Work Log\n",
        "- \n",
        "\n",
        "### Code Snippets\n",
        "```python\n",
        "# Your code here\n",
        "```\n",
        "\n",
        "### Observations & Next Steps\n",
        "- \n"
      ]
    },
    {
      "cell_type": "markdown",
      "id": "c78fa083",
      "metadata": {},
      "source": [
        "## Thursday 12 June 2025  -----------------------------------\n",
        "\n",
        "### Goals for today\n",
        "- \n",
        "\n",
        "### Work Log\n",
        "- \n",
        "\n",
        "### Code Snippets\n",
        "```python\n",
        "# Your code here\n",
        "```\n",
        "\n",
        "### Observations & Next Steps\n",
        "- \n"
      ]
    },
    {
      "cell_type": "markdown",
      "id": "6e6f3bee",
      "metadata": {},
      "source": [
        "## Friday 13 June 2025  -----------------------------------\n",
        "\n",
        "### Goals for today\n",
        "- Get an image using python to control the camera\n",
        "\n",
        "### Work Log\n",
        "<div> <img src=\"images/first_nv_img.png\" alt=\"Drawing\" style=\"width: 200px;\"/></div> \n",
        "\n",
        "\n",
        "### Code Snippets\n",
        "```python\n",
        "# Your code here\n",
        "```\n",
        "\n",
        "### Observations & Next Steps\n",
        "- \n"
      ]
    },
    {
      "cell_type": "markdown",
      "id": "b957344e",
      "metadata": {},
      "source": [
        "## Monday 16 June 2025  -----------------------------------\n",
        "\n",
        "### Goals for today\n",
        "- Work on python code to analyse synthetic image data\n",
        "- Download parallels and install virtual Windows to connect camera to mac \n",
        "- Ask for microwave source\n",
        "\n",
        "### Work Log\n",
        "- Spent hours trying to use windows on mac, mission failed due to use of ARM architeture. To retrieve the data from the camera using python we need to use the dll files (only run on windows x86 or x64 architure). We used parallels virtual machine desktop which can run windows on mac with ARM architecture and use an emulation layer to run the x64 commands. This failed because we could not download the thorcam labs software on this virtual machine and hence the dlls. Moving forward we can only use one computer to interact\n",
        "\n",
        "\n",
        "### Code Snippets\n",
        "```python\n",
        "# Your code here\n",
        "```\n",
        "\n",
        "### Observations & Next Steps\n",
        "- \n"
      ]
    },
    {
      "cell_type": "markdown",
      "id": "cda2ba4c",
      "metadata": {},
      "source": [
        "## Tuesday 17 June 2025  -----------------------------------\n",
        "\n",
        "### Goals for today\n",
        "- Create a way to simulate the camera on a mac\n",
        "- Test out filters to see good ways to analise the images \n",
        "\n",
        "### Work Log\n",
        "- \n",
        "\n",
        "### Code Snippets\n",
        "```python\n",
        "# Your code here\n",
        "```\n",
        "\n",
        "### Observations & Next Steps\n",
        "- find a good way to filter the image and find nv centers\n"
      ]
    },
    {
      "cell_type": "markdown",
      "id": "41bc52cc",
      "metadata": {},
      "source": [
        "## Wednesday 18 June 2025  -----------------------------------\n",
        "\n",
        "### Goals for today\n",
        "- Keep working on code to process images\n",
        "\n",
        "### Work Log\n",
        "- Did not work on code as problem solving optical alignment took whole day\n",
        "\n",
        "### Observations & Next Steps\n",
        "- \n"
      ]
    },
    {
      "cell_type": "markdown",
      "id": "c57bd4ae",
      "metadata": {},
      "source": [
        "## Thursday 19 June 2025  -----------------------------------\n",
        "\n",
        "### Goals for today\n",
        "- Start getting images from optical setup (if it all works)\n",
        "- Get good filters to help with image analysis in real time\n",
        "- Maybe get laser characterisation data and start processing it\n",
        "\n",
        "### Work Log\n",
        "- Made a script to subtract the with mag field and without mag field images - works well\n",
        "\n",
        "### Code Snippets\n",
        "```python\n",
        "# Your code here\n",
        "np.savez(\"images/with_mag.npz\", image_data) # save image data (np array)\n",
        "without_mag = np.load('images/no_mag.npz', allow_pickle=True)['arr_0'] # load image array\n",
        "```\n",
        "\n",
        "### Observations & Next Steps\n",
        "- Take pictures tomorrow \n"
      ]
    },
    {
      "cell_type": "markdown",
      "id": "cad1ced1",
      "metadata": {},
      "source": [
        "## Friday 20 June 2025  -----------------------------------\n",
        "\n",
        "### Goals for today\n",
        "- Get data from sweeping microwave and the respective images\n",
        "- Write code to analyse this\n",
        "- Do strong mag field setup and get images with different magnet distances\n",
        "\n",
        "### Work Log\n",
        "- Since microwave setup wasnt showing nice quick data decided to revert back to strong mag field\n",
        "- After consultation with Alex, decided to focus beam evne more on diamond... postive results abd now clearer distinction between mag field and no mag field\n",
        "- Starting to collect data via quick snapshots to analyse moving magnet distance vs pixel intensity\n",
        "\n",
        "### Code Snippets\n",
        "```python\n",
        "# Your code here\n",
        "```\n",
        "\n",
        "### Observations & Next Steps\n",
        "- \n"
      ]
    },
    {
      "cell_type": "markdown",
      "id": "dd2c1423",
      "metadata": {},
      "source": [
        "## Monday 23 June 2025  -----------------------------------\n",
        "\n",
        "### Goals for today\n",
        "- \n",
        "\n",
        "### Work Log\n",
        "- \n",
        "\n",
        "### Code Snippets\n",
        "```python\n",
        "# Your code here\n",
        "```\n",
        "\n",
        "### Observations & Next Steps\n",
        "- \n"
      ]
    },
    {
      "cell_type": "markdown",
      "id": "7acfa93b",
      "metadata": {},
      "source": [
        "## Tuesday 24 June 2025  -----------------------------------\n",
        "\n",
        "### Goals for today\n",
        "- \n",
        "\n",
        "### Work Log\n",
        "- \n",
        "\n",
        "### Code Snippets\n",
        "```python\n",
        "# Your code here\n",
        "```\n",
        "\n",
        "### Observations & Next Steps\n",
        "- \n"
      ]
    },
    {
      "cell_type": "markdown",
      "id": "bc74043c",
      "metadata": {},
      "source": [
        "## Wednesday 25 June 2025  -----------------------------------\n",
        "\n",
        "### Goals for today\n",
        "- \n",
        "\n",
        "### Work Log\n",
        "- \n",
        "\n",
        "### Code Snippets\n",
        "```python\n",
        "# Your code here\n",
        "```\n",
        "\n",
        "### Observations & Next Steps\n",
        "- \n"
      ]
    },
    {
      "cell_type": "markdown",
      "id": "564e8414",
      "metadata": {},
      "source": [
        "## Thursday 26 June 2025  -----------------------------------\n",
        "\n",
        "### Goals for today\n",
        "- \n",
        "\n",
        "### Work Log\n",
        "- \n",
        "\n",
        "### Code Snippets\n",
        "```python\n",
        "# Your code here\n",
        "```\n",
        "\n",
        "### Observations & Next Steps\n",
        "- \n"
      ]
    }
  ],
  "metadata": {
    "language_info": {
      "name": "python"
    }
  },
  "nbformat": 4,
  "nbformat_minor": 5
}
